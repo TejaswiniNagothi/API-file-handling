{
 "cells": [
  {
   "cell_type": "code",
   "execution_count": null,
   "metadata": {},
   "outputs": [],
   "source": [
    "from flask import Flask, request, jsonify\n",
    "import os\n",
    "\n",
    "app = Flask(name)\n",
    "FILE_PATH = \"data.txt\"\n",
    "\n",
    "Ensure file exists\n",
    "\n",
    "if not os.path.exists(FILE_PATH):\n",
    "with open(FILE_PATH, \"w\") as f:\n",
    "f.write(\"\")\n",
    "\n",
    "API to write data to file\n",
    "\n",
    "@app.route(\"/write\", methods=[\"POST\"])\n",
    "def write_file():\n",
    "data = request.json.get(\"content\", \"\")\n",
    "if not data:\n",
    "return jsonify({\"error\": \"Content cannot be empty\"}), 400\n",
    "with open(FILE_PATH, \"a\") as f:\n",
    "f.write(data + \"\\n\")\n",
    "return jsonify({\"message\": \"Data written successfully\"})\n",
    "\n",
    "API to read data from file\n",
    "\n",
    "@app.route(\"/read\", methods=[\"GET\"])\n",
    "def read_file():\n",
    "try:\n",
    "with open(FILE_PATH, \"r\") as f:\n",
    "content = f.readlines()\n",
    "return jsonify({\"content\": [line.strip() for line in content]})\n",
    "except Exception as e:\n",
    "return jsonify({\"error\": str(e)}), 500\n",
    "\n",
    "API to clear file content\n",
    "\n",
    "@app.route(\"/clear\", methods=[\"DELETE\"])\n",
    "def clear_file():\n",
    "try:\n",
    "with open(FILE_PATH, \"w\") as f:\n",
    "f.write(\"\")\n",
    "return jsonify({\"message\": \"File cleared successfully\"})\n",
    "except Exception as e:\n",
    "return jsonify({\"error\": str(e)}), 500\n",
    "\n",
    "if name == \"main\":\n",
    "app.run(debug=True, port=5001)\n",
    "\n"
   ]
  }
 ],
 "metadata": {
  "language_info": {
   "name": "python"
  }
 },
 "nbformat": 4,
 "nbformat_minor": 2
}
